{
 "cells": [
  {
   "cell_type": "markdown",
   "id": "2198084b",
   "metadata": {},
   "source": [
    "# Music Classification Based on Persian Dastgah\n",
    "This notebook focuses on classifying Iranian traditional music using machine learning."
   ]
  },
  {
   "cell_type": "code",
   "execution_count": null,
   "id": "87a73560",
   "metadata": {},
   "outputs": [],
   "source": [
    "# Install gdown if not already installed\n",
    "!pip install -q gdown\n",
    "\n",
    "# Download dataset from Google Drive\n",
    "import gdown\n",
    "gdown.download('https://drive.google.com/uc?id=1mNnY9TxogefNRBmQQr8hl4sVhxaqEuvK', 'dastgah_dataset.zip', quiet=False)\n",
    "!unzip -o dastgah_dataset.zip\n"
   ]
  },
  {
   "cell_type": "code",
   "execution_count": null,
   "id": "3f3b8f91",
   "metadata": {},
   "outputs": [],
   "source": [
    "import pandas as pd\n",
    "\n",
    "# Load the dataset\n",
    "df = pd.read_csv(\"dataset.csv\")  # Adjust if dataset name differs\n",
    "df.head()\n"
   ]
  },
  {
   "cell_type": "code",
   "execution_count": null,
   "id": "0481d243",
   "metadata": {},
   "outputs": [],
   "source": [
    "from sklearn.feature_selection import SelectKBest, f_classif\n",
    "\n",
    "X = df.drop(\"dastgah\", axis=1)\n",
    "y = df[\"dastgah\"]\n",
    "\n",
    "selector = SelectKBest(score_func=f_classif, k=5)\n",
    "X_new = selector.fit_transform(X, y)\n",
    "\n",
    "selected_features = X.columns[selector.get_support()]\n",
    "print(\"Selected Features:\", list(selected_features))\n"
   ]
  },
  {
   "cell_type": "code",
   "execution_count": null,
   "id": "f6826ac4",
   "metadata": {},
   "outputs": [],
   "source": [
    "from sklearn.model_selection import train_test_split\n",
    "from sklearn.neural_network import MLPClassifier\n",
    "from sklearn.metrics import classification_report\n",
    "\n",
    "# Train/Test split\n",
    "X_train, X_test, y_train, y_test = train_test_split(X_new, y, test_size=0.2, random_state=42)\n",
    "\n",
    "# Train model\n",
    "clf = MLPClassifier(hidden_layer_sizes=(50,), max_iter=300, random_state=42)\n",
    "clf.fit(X_train, y_train)\n",
    "\n",
    "# Predict and evaluate\n",
    "y_pred = clf.predict(X_test)\n",
    "print(classification_report(y_test, y_pred))\n"
   ]
  }
 ],
 "metadata": {},
 "nbformat": 4,
 "nbformat_minor": 5
}
