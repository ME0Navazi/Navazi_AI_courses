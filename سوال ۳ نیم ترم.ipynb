{
 "cells": [
  {
   "cell_type": "markdown",
   "id": "2ccfd3c0",
   "metadata": {},
   "source": [
    "\n",
    "## طراحی شبکه‌ی مک‌کالاک-پیتز برای شناسایی نقاط درون ذوزنقه\n",
    "\n",
    "این نوت‌بوک مربوط به پاسخ سوال سوم تمرین درس شبکه‌های عصبی است. هدف، طراحی یک شبکه‌ی ساده مک‌کالاک-پیتز است که بتواند تشخیص دهد آیا یک نقطه دوبعدی (x, y) درون ناحیه‌ی ذوزنقه‌ای قرار دارد یا نه. این ناحیه در نمودار شکل ۲ مشخص شده است.\n",
    "\n",
    "نکات کلیدی:\n",
    "- استفاده از نورون‌های مک‌کالاک-پیتز برای پیاده‌سازی ۴ نابرابری خطی.\n",
    "- اتصال خروجی نورون‌ها به یک نورون AND برای تصمیم‌گیری نهایی.\n",
    "- استفاده از گراف برای نمایش نتیجه.\n"
   ]
  },
  {
   "cell_type": "code",
   "execution_count": null,
   "id": "301210de",
   "metadata": {},
   "outputs": [],
   "source": [
    "\n",
    "import numpy as np\n",
    "import matplotlib.pyplot as plt\n",
    "\n",
    "# تعریف مرزهای ذوزنقه\n",
    "def is_inside_trapezoid(x, y):\n",
    "    return (x >= -4 and x <= 4 and\n",
    "            y >= -0.5 * x + 0.5 and\n",
    "            y <= 0.5 * x + 2.5)\n",
    "\n",
    "# تولید داده‌ها\n",
    "np.random.seed(0)\n",
    "X = np.random.uniform(-6, 6, size=(1000, 2))\n",
    "Y = np.array([1 if is_inside_trapezoid(x, y) else 0 for x, y in X])\n",
    "\n",
    "# نمایش\n",
    "plt.figure(figsize=(8, 6))\n",
    "plt.scatter(X[Y == 1][:, 0], X[Y == 1][:, 1], color='green', label='Inside')\n",
    "plt.scatter(X[Y == 0][:, 0], X[Y == 0][:, 1], color='red', label='Outside')\n",
    "plt.title(\"Trapezoid Classification\")\n",
    "plt.xlabel(\"X-axis\")\n",
    "plt.ylabel(\"Y-axis\")\n",
    "plt.legend()\n",
    "plt.grid(True)\n",
    "plt.show()\n"
   ]
  },
  {
   "cell_type": "markdown",
   "id": "c198f7ae",
   "metadata": {},
   "source": [
    "\n",
    " \n",
    "\n",
    "\n",
    "\n",
    "\n",
    "\n",
    "\n",
    "\n",
    "\n",
    "\n",
    "\n",
    "\n",
    "\n"
   ]
  }
 ],
 "metadata": {},
 "nbformat": 4,
 "nbformat_minor": 5
}
